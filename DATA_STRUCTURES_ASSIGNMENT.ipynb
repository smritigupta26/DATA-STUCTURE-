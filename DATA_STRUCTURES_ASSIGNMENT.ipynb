{
  "nbformat": 4,
  "nbformat_minor": 0,
  "metadata": {
    "colab": {
      "provenance": []
    },
    "kernelspec": {
      "name": "python3",
      "display_name": "Python 3"
    },
    "language_info": {
      "name": "python"
    }
  },
  "cells": [
    {
      "cell_type": "markdown",
      "source": [
        "#DATA STRUCTURE\n",
        "\n",
        "# Writing questions"
      ],
      "metadata": {
        "id": "3JHgYyl7Ry0t"
      }
    },
    {
      "cell_type": "markdown",
      "source": [
        " #Data Types and Structures Questions – Answers\n",
        "\n",
        "\n",
        " Q1. What are data structures, and why are they important?\n",
        "\n",
        "   ANS 1.> Data structures are ways of organizing and storing data so that they can be accessed and modified efficiently. They are important for optimizing performance and ensuring effective data processing.\n",
        "\n",
        "Q2.Explain the  difference between mutable and immutable data types with examples:\n",
        "\n",
        "  ANS 2.> Mutable: These are those data types whose values can be changed  \n",
        "        after they are created. (e.g., lists, dictionaries\n",
        "\n",
        "  .>Immutable: these are those data types whose values can not be altered once they are set. (e.g., strings, tuples)\n",
        "\n",
        "Q3. What are the main differences between lists and tuples in python?\n",
        "\n",
        "  ANS 3.> Lists are mutable; tuples are immutable.\n",
        "\n",
        "  .>Lists have more functionalities but are slower than tuples.\n",
        "\n",
        "  .>List are defined using square brackets[];tupls are defined using\n",
        "     parentheses()\n",
        "\n",
        "Q4. Describe how dictionaries store data\n",
        "\n",
        "  ANS 4.> Dictionaries store data in key-value pairs using a hash table mechanism for quick lookups.\n",
        "\n",
        "Q5. Why might you use a set instead of a list in Python?\n",
        "\n",
        "  ANS 5.> Sets automatically remove duplicates and offer faster membership testing while list contain duplicates.\n",
        "\n",
        "Q6. What is a string in Python and its difference from a list?\n",
        "\n",
        "  ANS 6.> Strings in Python are sequences of characters enclosed in quotes ('' or “”). Lists are ordered collections of items enclosed in square brackets.\n",
        "  .> Strings are immutable, meaning they cannot be changed once created, while lists are mutable and can be modified as needed.\n",
        "\n",
        "Q7. How do tuples ensure data integrity in Python?\n",
        "\n",
        "  ANS 7.> Tuples are immutable, meaning their contents can't be changed, ensuring consistent data.\n",
        "\n",
        "Q8. What is a hash table, and how does it relate to dictionaries in Python?\n",
        "\n",
        " ANS 8.> A hash table maps keys to values using a hash function; Python dictionaries are implemented using hash tables.\n",
        "\n",
        "Q9. Can lists contain different data types?\n",
        "\n",
        "  ANS 9.> Yes, Python lists can contain multiple data types.Python lists are huge and flexible,allowing you to store a collection of elements,regardless of their data type.\n",
        "\n",
        "Q10. Explain why strings are immutable in Python.\n",
        "\n",
        " ANS 9.> For performance optimization and data integrity.\n",
        "\n",
        "Q11. What advantages do dictionaries offer over lists for certain tasks?\n",
        "\n",
        " ANS 10.> Fast lookups by key, better for associative arrays means dictionaries code are much easier and simple to read as compare to list which are complex to read.\n",
        "\n",
        "Q12.Describe a scenario where using a tuple would be preferable over a list.\n",
        "\n",
        " ANS 11.> Use tuples when the data should not change that is immutable\n",
        "   (e.g., coordinates).\n",
        "\n",
        "   Any time you need to store a sequence of data like a list, but don't need the mutability of a list, a tuple is appropriate.\n",
        "\n",
        "\n",
        "Q13.How do sets handle duplicate values in Python?\n",
        "\n",
        " ANS 13.> Sets automatically eliminate duplicates that means sets in Python are designed to store only unique elements. When a user attempts to add a duplicate value to a set, the set automatically discards the duplicate, ensuring that each element within the set is unique.\n",
        "\n",
        "Q14.How does the \"in\" keyword work differently for  lists and dictionaries?\n",
        "\n",
        " ANS 14.> In list: checks for element existence.\n",
        "\n",
        "  In dict: checks for key existence.\n",
        "\n",
        "Q15. Can you modify the elements of a tuple?Explain why or why not.\n",
        "\n",
        " ANS 15.> No, you cannot directly modify the elements of a tuple in Python once it's been created. Tuples are immutable, meaning their contents cannot be changed after their creation. Attempting to modify a tuple will result in a TypeError.\n",
        "\n",
        "Q16. What is a nested dictionary,and give an example of its use case?\n",
        "\n",
        " ANS 16.> A nested dictionary is a dictionary where the value are themselves dictionaries.Example\n",
        "\n",
        "\n",
        "    employee_records = {\n",
        "    \"IT\": {\n",
        "        \"John Doe\": {\"age\": 30, \"position\": \"Software Engineer\"},\n",
        "        \"Jane Smith\": {\"age\": 28, \"position\": \"Database Administrator\"}\n",
        "    },\n",
        "    \"Marketing\": {\n",
        "        \"Peter Jones\": {\"age\": 35, \"position\": \"Marketing Manager\"}\n",
        "    }\n",
        "\n",
        "Q17. Describe the  time complexity of accessing elements in a dictionary.\n",
        "\n",
        " ANS 17.> Accessing an element in a dictionary using its key typically has a time complexity of O(1) on average, meaning it takes constant time, regardless of the dictionary's size. However, in the worst-case scenario, it can degrade to O(n), where n is the number of key-value pairs, if there are many hash collisions.\n",
        "\n",
        " Average case: O(1), Worst case: O(n)\n",
        "\n",
        "Q18. In what situations are lists preferred over dictionaries?\n",
        "\n",
        " ANS 18.> When the data is ordered and needs sequential access.\n",
        "\n",
        "Q19. Why are dictionaries unordered, and how does it affect data retrieval?\n",
        "\n",
        " ANS 19.> They are unordered because they use a hash map, but in modern Python (3.7+), insertion order is preserved.It affect data retrieval as it is timw consuming.\n",
        "\n",
        "Q20. Explain the difference between a list and a dictionary in terms of data retrieval.\n",
        "\n",
        " ANS 20.> List: By index (position-based)\n",
        "\n",
        "  Dictionary: By key (key-based)"
      ],
      "metadata": {
        "id": "hjMowVzlSrxx"
      }
    },
    {
      "cell_type": "markdown",
      "source": [
        "#Practical Questions  - DATA  STRUCTURE"
      ],
      "metadata": {
        "id": "hH8jWrKyj3az"
      }
    },
    {
      "cell_type": "markdown",
      "source": [
        "Q1. Write a code to create a string with your name and print it."
      ],
      "metadata": {
        "id": "8ZPdbvfIkisU"
      }
    },
    {
      "cell_type": "code",
      "source": [
        "name = \"SMRITI GUPTA\"\n",
        "print(name)"
      ],
      "metadata": {
        "colab": {
          "base_uri": "https://localhost:8080/"
        },
        "id": "uYDOk0FWkzxB",
        "outputId": "4daaaf90-1196-487c-a324-b15176815bc1"
      },
      "execution_count": 1,
      "outputs": [
        {
          "output_type": "stream",
          "name": "stdout",
          "text": [
            "SMRITI GUPTA\n"
          ]
        }
      ]
    },
    {
      "cell_type": "markdown",
      "source": [
        "Q2.Write a code to find the length of the string \"Hello World\"."
      ],
      "metadata": {
        "id": "FXDD6tVRlJcB"
      }
    },
    {
      "cell_type": "code",
      "source": [
        "print(len(\"Hello WORLD\"))"
      ],
      "metadata": {
        "colab": {
          "base_uri": "https://localhost:8080/"
        },
        "id": "wMV6njTslgqs",
        "outputId": "f19b24e5-25dc-4980-c792-c57d88811ecc"
      },
      "execution_count": 2,
      "outputs": [
        {
          "output_type": "stream",
          "name": "stdout",
          "text": [
            "11\n"
          ]
        }
      ]
    },
    {
      "cell_type": "markdown",
      "source": [
        "Q3. Write a code to slice the first 3 characters from the string \"Python Programming\"."
      ],
      "metadata": {
        "id": "nio-uipklvPz"
      }
    },
    {
      "cell_type": "code",
      "execution_count": 3,
      "metadata": {
        "colab": {
          "base_uri": "https://localhost:8080/"
        },
        "id": "yVT-JjfzRRbh",
        "outputId": "84c2d8a8-ce46-467d-efeb-27a112413968"
      },
      "outputs": [
        {
          "output_type": "stream",
          "name": "stdout",
          "text": [
            "Pyt\n"
          ]
        }
      ],
      "source": [
        "s = \"Python Programming\"\n",
        "print(s[:3])"
      ]
    },
    {
      "cell_type": "markdown",
      "source": [
        "Q4. Write a code to convert the string \"hello\" to uppercase.\n"
      ],
      "metadata": {
        "id": "it95VJdtmu6j"
      }
    },
    {
      "cell_type": "code",
      "source": [
        "print(\"hello\".upper())"
      ],
      "metadata": {
        "colab": {
          "base_uri": "https://localhost:8080/"
        },
        "id": "fPUNiJ09m94p",
        "outputId": "bb67b7ee-149b-49f3-bce5-fff6eeaa362d"
      },
      "execution_count": 4,
      "outputs": [
        {
          "output_type": "stream",
          "name": "stdout",
          "text": [
            "HELLO\n"
          ]
        }
      ]
    },
    {
      "cell_type": "markdown",
      "source": [
        "Q5. Write a code to replace the word \"apple\" with \"orange\" in the string \"I like apple\""
      ],
      "metadata": {
        "id": "DhyL7L_pnRyC"
      }
    },
    {
      "cell_type": "code",
      "source": [
        "print(\"I like apple\".replace(\"apple\",\"orange\"))"
      ],
      "metadata": {
        "colab": {
          "base_uri": "https://localhost:8080/"
        },
        "id": "mCr-lV5ykzIS",
        "outputId": "d1fc631d-bc4d-4418-861b-a125312b1eb7"
      },
      "execution_count": 6,
      "outputs": [
        {
          "output_type": "stream",
          "name": "stdout",
          "text": [
            "I like orange\n"
          ]
        }
      ]
    },
    {
      "cell_type": "markdown",
      "source": [
        "Q6.Write a code to create a list with numbers 1 to 5 and print it.\n"
      ],
      "metadata": {
        "id": "DrAdzS63n5GY"
      }
    },
    {
      "cell_type": "code",
      "source": [
        "print(list(range(1,6)))"
      ],
      "metadata": {
        "colab": {
          "base_uri": "https://localhost:8080/"
        },
        "id": "jWOuedbNn4pZ",
        "outputId": "ebf95746-e3b2-459c-ec85-d6b2747adf6f"
      },
      "execution_count": 7,
      "outputs": [
        {
          "output_type": "stream",
          "name": "stdout",
          "text": [
            "[1, 2, 3, 4, 5]\n"
          ]
        }
      ]
    },
    {
      "cell_type": "markdown",
      "source": [
        "Q7. Write a code to append the number 10 to the list [1, 2.3.4).\n"
      ],
      "metadata": {
        "id": "C9iMWopmop0o"
      }
    },
    {
      "cell_type": "code",
      "source": [
        "list  = [1,2,3,4]\n",
        "list.append(10)\n",
        "print(list)"
      ],
      "metadata": {
        "colab": {
          "base_uri": "https://localhost:8080/"
        },
        "id": "WzUQZ_jGn4lL",
        "outputId": "00712806-5cd3-4016-dba7-016cf8d9b3b1"
      },
      "execution_count": 9,
      "outputs": [
        {
          "output_type": "stream",
          "name": "stdout",
          "text": [
            "[1, 2, 3, 4, 10]\n"
          ]
        }
      ]
    },
    {
      "cell_type": "markdown",
      "source": [
        "Q8. Write a code to remove the number 3 from the list [1, 2, 3, 4, 5].\n"
      ],
      "metadata": {
        "id": "O6veAKKOpLwf"
      }
    },
    {
      "cell_type": "code",
      "source": [
        "lst = [1,2,3,4,5]\n",
        "lst.remove(3)\n",
        "print(lst)"
      ],
      "metadata": {
        "colab": {
          "base_uri": "https://localhost:8080/"
        },
        "id": "ZZJPC-HJn4h2",
        "outputId": "3ccb3f5a-a979-4567-e2fb-be7b52468c2c"
      },
      "execution_count": 10,
      "outputs": [
        {
          "output_type": "stream",
          "name": "stdout",
          "text": [
            "[1, 2, 4, 5]\n"
          ]
        }
      ]
    },
    {
      "cell_type": "markdown",
      "source": [
        "Q9. Write a code to access the second element in the list ['a', 'b', 'c', 'd')\n"
      ],
      "metadata": {
        "id": "FTKuLofxpl-w"
      }
    },
    {
      "cell_type": "code",
      "source": [
        "lst = ['a', 'b', 'c', 'd']\n",
        "print(lst[1])"
      ],
      "metadata": {
        "colab": {
          "base_uri": "https://localhost:8080/"
        },
        "id": "XFbuq6Sin4ej",
        "outputId": "3fd312ca-3239-4770-9a9f-11283856e452"
      },
      "execution_count": 11,
      "outputs": [
        {
          "output_type": "stream",
          "name": "stdout",
          "text": [
            "b\n"
          ]
        }
      ]
    },
    {
      "cell_type": "markdown",
      "source": [
        "Q10. Write a code to reverse the list 10, 20, 30, 40, 50).\n"
      ],
      "metadata": {
        "id": "SZekpZZHqRdW"
      }
    },
    {
      "cell_type": "code",
      "source": [
        "lst = [10, 20, 30, 40, 50]\n",
        "print(lst[::-1])"
      ],
      "metadata": {
        "colab": {
          "base_uri": "https://localhost:8080/"
        },
        "id": "Bhr6UBtkn4a0",
        "outputId": "1dd974f6-ac5c-48fd-b8ea-0ca16c510f96"
      },
      "execution_count": 12,
      "outputs": [
        {
          "output_type": "stream",
          "name": "stdout",
          "text": [
            "[50, 40, 30, 20, 10]\n"
          ]
        }
      ]
    },
    {
      "cell_type": "markdown",
      "source": [
        "\n",
        "Q11. Write a code to create a tuple with the elements 100, 200, 300 and print it.\n"
      ],
      "metadata": {
        "id": "3nv4hPdMqjpj"
      }
    },
    {
      "cell_type": "code",
      "source": [
        "Tuple = (100, 200, 300)\n",
        "print(Tuple)"
      ],
      "metadata": {
        "colab": {
          "base_uri": "https://localhost:8080/"
        },
        "id": "rSe4Y7Gzn4Q7",
        "outputId": "13d3f677-8648-4a5f-dab7-1f86bc2bf4a9"
      },
      "execution_count": 13,
      "outputs": [
        {
          "output_type": "stream",
          "name": "stdout",
          "text": [
            "(100, 200, 300)\n"
          ]
        }
      ]
    },
    {
      "cell_type": "markdown",
      "source": [
        "Q12. Write a code to access the second-to-last element of the tuple ('red, 'green', 'blue', 'yellow')."
      ],
      "metadata": {
        "id": "UnPmgd1UrAQG"
      }
    },
    {
      "cell_type": "code",
      "source": [
        "t = ('red', 'green', 'blue', 'yellow')\n",
        "print(t[-2])"
      ],
      "metadata": {
        "colab": {
          "base_uri": "https://localhost:8080/"
        },
        "id": "TbxiyEvKq_9H",
        "outputId": "6f84f708-1a93-41a9-a937-e699a46f0ad3"
      },
      "execution_count": 14,
      "outputs": [
        {
          "output_type": "stream",
          "name": "stdout",
          "text": [
            "blue\n"
          ]
        }
      ]
    },
    {
      "cell_type": "markdown",
      "source": [
        "Q13. Write a code to find the minimum number in the tuple (10, 20, 5, 15)."
      ],
      "metadata": {
        "id": "hWjz3bllrRPW"
      }
    },
    {
      "cell_type": "code",
      "source": [
        "t = (10, 20, 5, 15)\n",
        "print(min(t))"
      ],
      "metadata": {
        "colab": {
          "base_uri": "https://localhost:8080/"
        },
        "id": "N0pvTG0Gq_6F",
        "outputId": "726bc053-3a61-4c3a-c899-9c53aff3dcbd"
      },
      "execution_count": 15,
      "outputs": [
        {
          "output_type": "stream",
          "name": "stdout",
          "text": [
            "5\n"
          ]
        }
      ]
    },
    {
      "cell_type": "markdown",
      "source": [
        "Q14. Write a code to find the index of the element \"cat\" in the tuple (dog', 'cat', 'rabbit')."
      ],
      "metadata": {
        "id": "QrXCxaURruqX"
      }
    },
    {
      "cell_type": "code",
      "source": [
        "t = ('dog', 'cat', 'rabbit')\n",
        "print(t.index('cat'))"
      ],
      "metadata": {
        "colab": {
          "base_uri": "https://localhost:8080/"
        },
        "id": "gqj_ad-iq_1B",
        "outputId": "f8254286-910c-4983-87e5-714f352cda27"
      },
      "execution_count": 16,
      "outputs": [
        {
          "output_type": "stream",
          "name": "stdout",
          "text": [
            "1\n"
          ]
        }
      ]
    },
    {
      "cell_type": "markdown",
      "source": [
        "Q15. Write a code to create a tuple containing three different fruits and check if \"kiwi\" is in it."
      ],
      "metadata": {
        "id": "QZ2ujcncsEsM"
      }
    },
    {
      "cell_type": "code",
      "source": [
        "t = ('apple', 'banana', 'orange')\n",
        "print('kiwi' in t)"
      ],
      "metadata": {
        "colab": {
          "base_uri": "https://localhost:8080/"
        },
        "id": "cnT3PFhwq_xj",
        "outputId": "f55ff75e-54aa-4f28-b005-87c239cee729"
      },
      "execution_count": 17,
      "outputs": [
        {
          "output_type": "stream",
          "name": "stdout",
          "text": [
            "False\n"
          ]
        }
      ]
    },
    {
      "cell_type": "markdown",
      "source": [
        "Q16. Write a code to create a set with the elements a', 'b', 'c' and print it.\n"
      ],
      "metadata": {
        "id": "TmcuVkyQsWe_"
      }
    },
    {
      "cell_type": "code",
      "source": [
        "s = {'a','b','c'}\n",
        "print(s)"
      ],
      "metadata": {
        "colab": {
          "base_uri": "https://localhost:8080/"
        },
        "id": "NLaiPe4rq_tj",
        "outputId": "d63c465f-aabb-448d-9c35-47b70ab0bd92"
      },
      "execution_count": 18,
      "outputs": [
        {
          "output_type": "stream",
          "name": "stdout",
          "text": [
            "{'c', 'b', 'a'}\n"
          ]
        }
      ]
    },
    {
      "cell_type": "markdown",
      "source": [
        "Q17. Write a code to clear all elements from the set (1, 2, 3, 4, 5).\n"
      ],
      "metadata": {
        "id": "XR1jyDDUs3tR"
      }
    },
    {
      "cell_type": "code",
      "source": [
        "s = {1, 2, 3, 4, 5}\n",
        "s.clear()\n",
        "print(s)"
      ],
      "metadata": {
        "colab": {
          "base_uri": "https://localhost:8080/"
        },
        "id": "oKdvM2nXq_ny",
        "outputId": "ce4704cf-095d-4ae5-b17f-072afd001386"
      },
      "execution_count": 19,
      "outputs": [
        {
          "output_type": "stream",
          "name": "stdout",
          "text": [
            "set()\n"
          ]
        }
      ]
    },
    {
      "cell_type": "markdown",
      "source": [
        "Q18. Write a code to remove the element 4 from the set (1, 2, 3, 4).\n"
      ],
      "metadata": {
        "id": "jPANh6KqtKJl"
      }
    },
    {
      "cell_type": "code",
      "source": [
        "s = {1, 2, 3, 4}\n",
        "s.remove(4)\n",
        "print(s)"
      ],
      "metadata": {
        "colab": {
          "base_uri": "https://localhost:8080/"
        },
        "id": "_pODCh4iq_ku",
        "outputId": "6df0cf9d-3e82-4ff6-f2fe-e381722f5560"
      },
      "execution_count": 20,
      "outputs": [
        {
          "output_type": "stream",
          "name": "stdout",
          "text": [
            "{1, 2, 3}\n"
          ]
        }
      ]
    },
    {
      "cell_type": "markdown",
      "source": [
        "Q19. Write a code to find the union of two sets (1, 2, 3) and (3, 4, 5).\n"
      ],
      "metadata": {
        "id": "HeWvfzMNtVT-"
      }
    },
    {
      "cell_type": "code",
      "source": [
        "s1 = {1, 2, 3}\n",
        "s2 = {3, 4, 5}\n",
        "print(s1.union(s2))"
      ],
      "metadata": {
        "colab": {
          "base_uri": "https://localhost:8080/"
        },
        "id": "4GrvbmmPq_hP",
        "outputId": "39ecb880-f55e-43c5-eac4-d09eefb2bc51"
      },
      "execution_count": 21,
      "outputs": [
        {
          "output_type": "stream",
          "name": "stdout",
          "text": [
            "{1, 2, 3, 4, 5}\n"
          ]
        }
      ]
    },
    {
      "cell_type": "markdown",
      "source": [
        "Q20. Write a code to find the intersection of two sets (1, 2, 3) and (2, 3, 4).\n"
      ],
      "metadata": {
        "id": "EQpKhzu5thx_"
      }
    },
    {
      "cell_type": "code",
      "source": [
        "print(s1.intersection(s2))"
      ],
      "metadata": {
        "colab": {
          "base_uri": "https://localhost:8080/"
        },
        "id": "PZVr7jQ8q_eD",
        "outputId": "a04173fd-d221-43a8-8565-b8fcbebae1a0"
      },
      "execution_count": 22,
      "outputs": [
        {
          "output_type": "stream",
          "name": "stdout",
          "text": [
            "{3}\n"
          ]
        }
      ]
    },
    {
      "cell_type": "markdown",
      "source": [
        "Q21. Write a code to create a dictionary with the keys \"name\", \"age\", and \"city\", and print it."
      ],
      "metadata": {
        "id": "wA7Lm1XFtwKI"
      }
    },
    {
      "cell_type": "code",
      "source": [
        "d = {\"name\": \"SMRITI\", \"age\": 24, \"city\": \"Varanasi\"}\n",
        "print(d)"
      ],
      "metadata": {
        "colab": {
          "base_uri": "https://localhost:8080/"
        },
        "id": "6UGvewTRq_Z7",
        "outputId": "1fa887ca-a42d-4b46-8590-c91f5d5ab811"
      },
      "execution_count": 23,
      "outputs": [
        {
          "output_type": "stream",
          "name": "stdout",
          "text": [
            "{'name': 'SMRITI', 'age': 24, 'city': 'Varanasi'}\n"
          ]
        }
      ]
    },
    {
      "cell_type": "markdown",
      "source": [
        "Q22. Write a code to add a new key-value pair \"country\": \"USA\" to the dictionary [name: John', 'age: 25).\n"
      ],
      "metadata": {
        "id": "0c5PN7ciuCT2"
      }
    },
    {
      "cell_type": "code",
      "source": [
        "d = {'name': 'John', 'age': 25}\n",
        "d['country'] = 'USA'\n",
        "print(d)"
      ],
      "metadata": {
        "colab": {
          "base_uri": "https://localhost:8080/"
        },
        "id": "a-HXi0wVq_Vn",
        "outputId": "f59b0083-3f42-4899-ad79-9edba415e1cc"
      },
      "execution_count": 24,
      "outputs": [
        {
          "output_type": "stream",
          "name": "stdout",
          "text": [
            "{'name': 'John', 'age': 25, 'country': 'USA'}\n"
          ]
        }
      ]
    },
    {
      "cell_type": "markdown",
      "source": [
        "Q23. Write a code to access the value associated with the key \"name\" in the dictionary ['name': \"Alice', 'age: 30).\n"
      ],
      "metadata": {
        "id": "uljkHvz7uX3X"
      }
    },
    {
      "cell_type": "code",
      "source": [
        "d = {'name': \"Alice\", 'age': 30}\n",
        "print(d['name'])"
      ],
      "metadata": {
        "colab": {
          "base_uri": "https://localhost:8080/"
        },
        "id": "_6IKE4IJq_LA",
        "outputId": "6cac9105-fe01-4844-8485-2a9c3b843ad4"
      },
      "execution_count": 27,
      "outputs": [
        {
          "output_type": "stream",
          "name": "stdout",
          "text": [
            "Alice\n"
          ]
        }
      ]
    },
    {
      "cell_type": "markdown",
      "source": [
        "Q24. Write a code to remove the key \"age\" from the dictionary ['name': 'Bob', 'age: 22, 'city New York').\n"
      ],
      "metadata": {
        "id": "_p830N7evAbn"
      }
    },
    {
      "cell_type": "code",
      "source": [
        "d = {'name': 'Bob', 'age': 22, 'city': 'New York'}\n",
        "del d['age']\n",
        "print(d)"
      ],
      "metadata": {
        "colab": {
          "base_uri": "https://localhost:8080/"
        },
        "id": "FwqNOvk9vAGv",
        "outputId": "942a6c96-f62f-42d5-ed7b-024527a920d7"
      },
      "execution_count": 28,
      "outputs": [
        {
          "output_type": "stream",
          "name": "stdout",
          "text": [
            "{'name': 'Bob', 'city': 'New York'}\n"
          ]
        }
      ]
    },
    {
      "cell_type": "markdown",
      "source": [
        "Q25. Write a code to check if the key \"city\" exists in the dictionary ['name': \"Alice', 'city: 'Paris)\n"
      ],
      "metadata": {
        "id": "GkWkaQGGwO0c"
      }
    },
    {
      "cell_type": "code",
      "source": [
        "d = {'name': \"Alice\", 'city': 'Paris'}\n",
        "print('city' in d)"
      ],
      "metadata": {
        "colab": {
          "base_uri": "https://localhost:8080/"
        },
        "id": "29mNfzLWvADE",
        "outputId": "df44a1fa-e743-4b52-dfa2-b849c012920e"
      },
      "execution_count": 29,
      "outputs": [
        {
          "output_type": "stream",
          "name": "stdout",
          "text": [
            "True\n"
          ]
        }
      ]
    },
    {
      "cell_type": "markdown",
      "source": [
        "Q26. Write a code to create a list, a tuple, and a dictionary, and print them all.\n"
      ],
      "metadata": {
        "id": "8N5ks3eSwgC8"
      }
    },
    {
      "cell_type": "code",
      "source": [
        "l = [1, 2, 3]\n",
        "t = (4, 5, 6)\n",
        "d = {'a': 7, 'b': 8, 'c': 9}\n",
        "print(l, t, d)"
      ],
      "metadata": {
        "colab": {
          "base_uri": "https://localhost:8080/"
        },
        "id": "gX-aOA2yu__4",
        "outputId": "77ce8f50-f2b9-4ebf-bd18-ad381500a918"
      },
      "execution_count": 30,
      "outputs": [
        {
          "output_type": "stream",
          "name": "stdout",
          "text": [
            "[1, 2, 3] (4, 5, 6) {'a': 7, 'b': 8, 'c': 9}\n"
          ]
        }
      ]
    },
    {
      "cell_type": "markdown",
      "source": [
        "\n",
        "Q27. Write a code to create a list of 5 random numbers between I and 100, sort it in ascending order, and print the result (replaced)."
      ],
      "metadata": {
        "id": "rrY9vHDQwxuU"
      }
    },
    {
      "cell_type": "code",
      "source": [
        "import random\n",
        "lst = [random.randint(1, 100) for _ in range(5)]\n",
        "lst.sort()\n",
        "print(lst)"
      ],
      "metadata": {
        "colab": {
          "base_uri": "https://localhost:8080/"
        },
        "id": "Y6ZONMLZu_8o",
        "outputId": "3932a47c-63d7-4dc3-e936-8b40dfdb62c1"
      },
      "execution_count": 32,
      "outputs": [
        {
          "output_type": "stream",
          "name": "stdout",
          "text": [
            "[21, 26, 58, 76, 82]\n"
          ]
        }
      ]
    },
    {
      "cell_type": "markdown",
      "source": [
        "Q28. Write a code to create a list with strings and print the element at the third index."
      ],
      "metadata": {
        "id": "Kc0lmqlAxSEF"
      }
    },
    {
      "cell_type": "code",
      "source": [
        "lst = ['apple', 'banana', 'cherry', 'date', 'berry']\n",
        "print(lst[2])"
      ],
      "metadata": {
        "colab": {
          "base_uri": "https://localhost:8080/"
        },
        "id": "w2Kdp13VyHNr",
        "outputId": "8c424852-481f-4952-cc33-4d6bc050c449"
      },
      "execution_count": 34,
      "outputs": [
        {
          "output_type": "stream",
          "name": "stdout",
          "text": [
            "cherry\n"
          ]
        }
      ]
    },
    {
      "cell_type": "markdown",
      "source": [
        "Q29. Write a code to combine two dictionaries into one and print the result."
      ],
      "metadata": {
        "id": "c5hGPgbkyXoT"
      }
    },
    {
      "cell_type": "code",
      "source": [
        "d1 = {'a': 1, 'b': 2}\n",
        "d2 = {'c': 3, 'd': 4}\n",
        "d3 = {**d1, **d2}\n",
        "print(d3)"
      ],
      "metadata": {
        "colab": {
          "base_uri": "https://localhost:8080/"
        },
        "id": "5eDL7gb-u_3M",
        "outputId": "fb47f567-67db-48a9-92c2-10d59258d890"
      },
      "execution_count": 35,
      "outputs": [
        {
          "output_type": "stream",
          "name": "stdout",
          "text": [
            "{'a': 1, 'b': 2, 'c': 3, 'd': 4}\n"
          ]
        }
      ]
    },
    {
      "cell_type": "markdown",
      "source": [
        "Q30.Write a code to convert a list of strings into a set."
      ],
      "metadata": {
        "id": "yg3hBCcByls_"
      }
    },
    {
      "cell_type": "code",
      "source": [
        "lst = ['apple', 'banana', 'cherry', 'date', 'berry']\n",
        "s = set(lst)\n",
        "print(s)"
      ],
      "metadata": {
        "colab": {
          "base_uri": "https://localhost:8080/"
        },
        "id": "IQ3713wYu_xO",
        "outputId": "cc852301-d165-4e4c-ba07-dbef97ded5f2"
      },
      "execution_count": 36,
      "outputs": [
        {
          "output_type": "stream",
          "name": "stdout",
          "text": [
            "{'cherry', 'apple', 'date', 'berry', 'banana'}\n"
          ]
        }
      ]
    },
    {
      "cell_type": "code",
      "source": [],
      "metadata": {
        "id": "OsQdoT74u_nV"
      },
      "execution_count": null,
      "outputs": []
    },
    {
      "cell_type": "code",
      "source": [],
      "metadata": {
        "id": "5ANC2sRUn4Gx"
      },
      "execution_count": null,
      "outputs": []
    },
    {
      "cell_type": "markdown",
      "source": [],
      "metadata": {
        "id": "tjrQT8xHn1l5"
      }
    }
  ]
}